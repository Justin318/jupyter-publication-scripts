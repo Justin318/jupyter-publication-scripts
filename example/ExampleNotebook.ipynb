{
 "cells": [
  {
   "cell_type": "code",
   "execution_count": 1,
   "metadata": {
    "collapsed": false
   },
   "outputs": [
    {
     "data": {
      "application/javascript": [
       "var nb = IPython.notebook;\n",
       "var kernel = IPython.notebook.kernel;\n",
       "var command = \"NOTEBOOK_FULL_PATH = '\" + nb.base_url + nb.notebook_path + \"'\";\n",
       "kernel.execute(command);\n",
       "\n",
       "var kernel = IPython.notebook.kernel;\n",
       "var thename = window.document.getElementById(\"notebook_name\").innerHTML;\n",
       "var command = \"theNotebook = \" + \"'\"+thename+\"'\";\n",
       "kernel.execute(command);"
      ],
      "text/plain": [
       "<IPython.core.display.Javascript object>"
      ]
     },
     "metadata": {},
     "output_type": "display_data"
    }
   ],
   "source": [
    "%%javascript\n",
    "var nb = IPython.notebook;\n",
    "var kernel = IPython.notebook.kernel;\n",
    "var command = \"NOTEBOOK_FULL_PATH = '\" + nb.base_url + nb.notebook_path + \"'\";\n",
    "kernel.execute(command);\n",
    "\n",
    "var kernel = IPython.notebook.kernel;\n",
    "var thename = window.document.getElementById(\"notebook_name\").innerHTML;\n",
    "var command = \"theNotebook = \" + \"'\"+thename+\"'\";\n",
    "kernel.execute(command);"
   ]
  },
  {
   "cell_type": "code",
   "execution_count": 2,
   "metadata": {
    "code_folding": [
     0
    ],
    "collapsed": true
   },
   "outputs": [],
   "source": [
    "# load libraries and set plot parameters\n",
    "import numpy as np\n",
    "import publicationextensions.PrettyTable as pt\n",
    "\n",
    "import matplotlib.pyplot as plt\n",
    "%matplotlib inline\n",
    "\n",
    "from IPython.display import set_matplotlib_formats\n",
    "set_matplotlib_formats('pdf', 'png')\n",
    "plt.rcParams['savefig.dpi'] = 75\n",
    "\n",
    "plt.rcParams['figure.autolayout'] = False\n",
    "plt.rcParams['figure.figsize'] = 10, 6\n",
    "plt.rcParams['axes.labelsize'] = 18\n",
    "plt.rcParams['axes.titlesize'] = 20\n",
    "plt.rcParams['font.size'] = 16\n",
    "plt.rcParams['lines.linewidth'] = 2.0\n",
    "plt.rcParams['lines.markersize'] = 8\n",
    "plt.rcParams['legend.fontsize'] = 14\n",
    "\n",
    "plt.rcParams['text.usetex'] = True\n",
    "plt.rcParams['font.family'] = \"serif\"\n",
    "plt.rcParams['font.serif'] = \"cm\"\n",
    "plt.rcParams['text.latex.preamble'] = \"\\usepackage{subdepth}, \\usepackage{type1cm}\""
   ]
  },
  {
   "cell_type": "code",
   "execution_count": 3,
   "metadata": {
    "collapsed": true
   },
   "outputs": [],
   "source": [
    "data_dir = \"data/\""
   ]
  },
  {
   "cell_type": "code",
   "execution_count": 4,
   "metadata": {
    "code_folding": [
     0
    ],
    "collapsed": false
   },
   "outputs": [],
   "source": [
    "# create data\n",
    "\n",
    "recalc = False\n",
    "\n",
    "if recalc==True:\n",
    "    # this would typically something timeconsuming!\n",
    "    t = np.linspace(0,20,100)\n",
    "    someCoolData = np.random.random((3,2))\n",
    "    moreCoolData = np.sin(t[::,np.newaxis]*someCoolData[:,0])*someCoolData[:,1]\n",
    "\n",
    "    outfile = open(data_dir+\"coolData.npz\",\"w\")\n",
    "    np.savez(outfile, t=t, someCoolData=someCoolData, moreCoolData=moreCoolData)\n",
    "    outfile.close()\n",
    "else:\n",
    "    infile = open(data_dir+\"coolData.npz\")\n",
    "    npzfile = np.load(infile)\n",
    "    t = npzfile[\"t\"]\n",
    "    someCoolData = npzfile[\"someCoolData\"]\n",
    "    moreCoolData = npzfile[\"moreCoolData\"]\n",
    "    infile.close()"
   ]
  },
  {
   "cell_type": "markdown",
   "metadata": {
    "variables": {
     "\"%2.3f\" % (someCoolData[0,0]+someCoolData[0,1]) ": "0.974"
    }
   },
   "source": [
    "# Introduction\n",
    "\n",
    "Let us first create some simple data, some values for $a$ and $b$, which are shown in Table \\ref{tab:data}. From that we can print some nice figures, namely Fig. \\ref{fig:amazingdata} and \\ref{fig:amazingdata_seperate}.\n",
    "\n",
    "We can also do some nice calculations and show the result in the markdown cell: $a+b = $ {{\"%2.3f\" % (someCoolData[0,0]+someCoolData[0,1]) }}, where $a$, $b$ are from the first row from below's table.\n",
    "\n",
    "$a+b = ${{\"%2.3f\" % (someCoolData[0,0]+someCoolData[0,1]) }}\n",
    "\n",
    "We can also cite some nice scientific article suc h as the the Gromacs paper by Pronk et. al.<cite data-cite=\"2418347/C7K6AC72\"></cite>. \n",
    "\n",
    "Some test for a name containing weird slovenian characters: <cite data-cite=\"2418347/W23TEI2S\"></cite>\n",
    "\n",
    "Cite some book chapter <cite data-cite=\"2418347/XMMRW9EX\"></cite>\n",
    "\n",
    "Cite some book: <cite data-cite=\"2418347/X9HUGRNC\"></cite>\n",
    "\n",
    "<font color='red'>Color</font> is also no problem.\n",
    "\n",
    "One can also do formulas: $\\int f(x) = F(x)$"
   ]
  },
  {
   "cell_type": "code",
   "execution_count": 11,
   "metadata": {
    "caption": "This is a particularly amazing table.",
    "collapsed": false,
    "label": "tab:data",
    "scrolled": true
   },
   "outputs": [
    {
     "data": {
      "text/html": [
       "<table><tr><td>$a$</td><td>$b$</td></tr><tr><td>0.70</td><td>0.28</td></tr><tr><td>0.13</td><td>0.49</td></tr><tr><td>0.41</td><td>0.21</td></tr></table>"
      ],
      "text/latex": [
       "\\begin{longtable*}[c]{@{}ll@{}}\n",
       "\\toprule\\addlinespace\n",
       "$a$ & $b$\\\\\\addlinespace \n",
       "\\midrule\\endhead\n",
       "0.70 & 0.28\\\\\\addlinespace \n",
       "0.13 & 0.49\\\\\\addlinespace \n",
       "0.41 & 0.21\\\\\\addlinespace \n",
       "\\bottomrule \n",
       " \\end{longtable*}"
      ],
      "text/plain": [
       "[['$a$', '$b$'], ['0.70', '0.28'], ['0.13', '0.49'], ['0.41', '0.21']]"
      ]
     },
     "execution_count": 11,
     "metadata": {},
     "output_type": "execute_result"
    }
   ],
   "source": [
    "pt.PrettyTable(someCoolData, [\"$a$\", \"$b$\"], formatstring=\"3.2f\", span_page=True, print_latex_longtable=True)"
   ]
  },
  {
   "cell_type": "markdown",
   "metadata": {},
   "source": [
    "# Results\n",
    "\n",
    "\n",
    "Lorem ipsum dolor sit amet, consectetur adipiscing elit. Maecenas elementum blandit consequat. Nunc ac rhoncus purus. Duis vestibulum mi id aliquam lacinia. Aliquam eu ipsum purus. Nunc eget lacus ac est scelerisque rhoncus sed id justo. Nam blandit placerat pharetra. Quisque consequat ligula a tincidunt lobortis. Curabitur magna risus, consectetur a massa id, tincidunt maximus urna. Curabitur dignissim convallis erat, id condimentum purus lacinia quis. Nam ut gravida eros, quis tempor turpis. Maecenas blandit eros non purus commodo pellentesque. Fusce pulvinar ipsum tellus, facilisis interdum lorem ultrices vitae. Donec in commodo libero. Nunc et arcu ipsum. In ultricies lacus eu quam ullamcorper eleifend. Proin sed purus fermentum, commodo eros at, faucibus ipsum.\n",
    "\n",
    "Suspendisse non leo id nisi luctus vehicula eu ac massa. Nunc eu tortor pretium, egestas nisi eget, volutpat eros. Fusce lectus nunc, pulvinar sed nisl vitae, laoreet laoreet nisl. Vestibulum lorem justo, semper nec ultrices sit amet, facilisis eget urna. Nunc tincidunt pellentesque metus, ut laoreet felis vehicula quis. Donec facilisis ac velit eget placerat. Nulla dictum quam ac magna auctor, eget bibendum ex cursus. Duis fringilla eu lorem eget iaculis. Curabitur porta dictum aliquam. In auctor mollis interdum. Fusce vel enim urna. Mauris metus quam, ultricies et quam in, lacinia tempor eros. Sed aliquet tincidunt purus eu pellentesque. Ut dui massa, pulvinar volutpat venenatis commodo, vulputate in diam. Nullam iaculis varius eleifend.\n",
    "\n",
    "Integer in eros mollis, hendrerit diam non, sodales risus. Donec sit amet eros tristique, pellentesque nisi sodales, gravida erat. Ut pretium, sem ac aliquet vulputate, lacus arcu blandit elit, at rutrum neque ligula a risus. Etiam sed ipsum id massa porta malesuada ut ac dolor. Nam pretium finibus mollis. Vestibulum aliquam augue mi, ut vulputate mi molestie eget. In ligula est, porttitor ac est eu, cursus fringilla metus. Duis nec velit malesuada, facilisis lectus id, posuere est. Integer rhoncus, lectus condimentum pretium gravida, nulla mi aliquet mauris, ac tempus lectus urna ut quam. In a ultrices sem. Mauris cursus justo in tortor viverra interdum. Nunc quis laoreet dui. Nunc sed sagittis quam.\n",
    "\n",
    "Class aptent taciti sociosqu ad litora torquent per conubia nostra, per inceptos himenaeos. Morbi est nibh, lobortis vel eleifend gravida, vulputate id urna. Sed in bibendum erat. Pellentesque elementum quam vitae massa ultricies rhoncus. Nullam ornare sit amet orci quis hendrerit. Duis finibus turpis vel est egestas, ut consequat eros egestas. Curabitur suscipit scelerisque lacus, vitae porttitor neque fermentum quis. Ut pulvinar id justo ut aliquet.\n",
    "\n",
    "Donec bibendum metus ac purus convallis suscipit. Integer tempus faucibus urna, ut interdum eros tincidunt ac. Sed eget nibh ligula. Quisque porttitor malesuada lectus, vel sollicitudin massa pellentesque vel. In eget scelerisque risus. Etiam ac varius nisi. Nam porta, elit ac sollicitudin condimentum, justo nibh tristique nunc, ac volutpat enim arcu elementum neque. Curabitur finibus fringilla tortor eget fringilla. "
   ]
  },
  {
   "cell_type": "code",
   "execution_count": null,
   "metadata": {
    "caption": "Show some amazing data combined in one plot!",
    "collapsed": false,
    "label": "fig:amazingdata"
   },
   "outputs": [],
   "source": [
    "lines = plt.plot(t, moreCoolData )\n",
    "plt.xlabel(r\"$t$\")\n",
    "plt.ylabel(r\"$a\\,\\sin(b\\,t)$\")\n",
    "plt.legend(lines, [r\"$a = %1.2f, b = %1.2f$\"%(a,b) for a,b in someCoolData]);"
   ]
  },
  {
   "cell_type": "markdown",
   "metadata": {},
   "source": [
    "\n",
    "\n",
    "Lorem ipsum dolor sit amet, consectetur adipiscing elit. Maecenas elementum blandit consequat. Nunc ac rhoncus purus. Duis vestibulum mi id aliquam lacinia. Aliquam eu ipsum purus. Nunc eget lacus ac est scelerisque rhoncus sed id justo. Nam blandit placerat pharetra. Quisque consequat ligula a tincidunt lobortis. Curabitur magna risus, consectetur a massa id, tincidunt maximus urna. Curabitur dignissim convallis erat, id condimentum purus lacinia quis. Nam ut gravida eros, quis tempor turpis. Maecenas blandit eros non purus commodo pellentesque. Fusce pulvinar ipsum tellus, facilisis interdum lorem ultrices vitae. Donec in commodo libero. Nunc et arcu ipsum. In ultricies lacus eu quam ullamcorper eleifend. Proin sed purus fermentum, commodo eros at, faucibus ipsum.\n",
    "\n",
    "Suspendisse non leo id nisi luctus vehicula eu ac massa. Nunc eu tortor pretium, egestas nisi eget, volutpat eros. Fusce lectus nunc, pulvinar sed nisl vitae, laoreet laoreet nisl. Vestibulum lorem justo, semper nec ultrices sit amet, facilisis eget urna. Nunc tincidunt pellentesque metus, ut laoreet felis vehicula quis. Donec facilisis ac velit eget placerat. Nulla dictum quam ac magna auctor, eget bibendum ex cursus. Duis fringilla eu lorem eget iaculis. Curabitur porta dictum aliquam. In auctor mollis interdum. Fusce vel enim urna. Mauris metus quam, ultricies et quam in, lacinia tempor eros. Sed aliquet tincidunt purus eu pellentesque. Ut dui massa, pulvinar volutpat venenatis commodo, vulputate in diam. Nullam iaculis varius eleifend.\n",
    "\n",
    "Integer in eros mollis, hendrerit diam non, sodales risus. Donec sit amet eros tristique, pellentesque nisi sodales, gravida erat. Ut pretium, sem ac aliquet vulputate, lacus arcu blandit elit, at rutrum neque ligula a risus. Etiam sed ipsum id massa porta malesuada ut ac dolor. Nam pretium finibus mollis. Vestibulum aliquam augue mi, ut vulputate mi molestie eget. In ligula est, porttitor ac est eu, cursus fringilla metus. Duis nec velit malesuada, facilisis lectus id, posuere est. Integer rhoncus, lectus condimentum pretium gravida, nulla mi aliquet mauris, ac tempus lectus urna ut quam. In a ultrices sem. Mauris cursus justo in tortor viverra interdum. Nunc quis laoreet dui. Nunc sed sagittis quam.\n",
    "\n",
    "Class aptent taciti sociosqu ad litora torquent per conubia nostra, per inceptos himenaeos. Morbi est nibh, lobortis vel eleifend gravida, vulputate id urna. Sed in bibendum erat. Pellentesque elementum quam vitae massa ultricies rhoncus. Nullam ornare sit amet orci quis hendrerit. Duis finibus turpis vel est egestas, ut consequat eros egestas. Curabitur suscipit scelerisque lacus, vitae porttitor neque fermentum quis. Ut pulvinar id justo ut aliquet.\n",
    "\n",
    "Donec bibendum metus ac purus convallis suscipit. Integer tempus faucibus urna, ut interdum eros tincidunt ac. Sed eget nibh ligula. Quisque porttitor malesuada lectus, vel sollicitudin massa pellentesque vel. In eget scelerisque risus. Etiam ac varius nisi. Nam porta, elit ac sollicitudin condimentum, justo nibh tristique nunc, ac volutpat enim arcu elementum neque. Curabitur finibus fringilla tortor eget fringilla. "
   ]
  },
  {
   "cell_type": "code",
   "execution_count": null,
   "metadata": {
    "caption": "Show some amazing data in three subplots in a wide figure!",
    "code_folding": [
     0
    ],
    "collapsed": false,
    "label": "fig:amazingdata_seperate",
    "widefigure": true
   },
   "outputs": [],
   "source": [
    "f, axarr = plt.subplots(1, len(someCoolData), figsize=(20,8))\n",
    "for i in range(len(someCoolData)):\n",
    "    axarr[i].plot(t, moreCoolData[:,i], label = r\"$a = %1.2f, b = %1.2f$\"%(someCoolData[i,0],someCoolData[i,1]))\n",
    "    axarr[i].legend()\n",
    "    axarr[i].set_xlabel(\"t\")\n",
    "    axarr[i].set_ylabel(r\"$a\\,\\sin(b\\,t)$\")"
   ]
  },
  {
   "cell_type": "markdown",
   "metadata": {},
   "source": [
    "## Even more sample text\n",
    "\n",
    "Lorem ipsum dolor sit amet, consectetur adipiscing elit. Maecenas elementum blandit consequat. Nunc ac rhoncus purus. Duis vestibulum mi id aliquam lacinia. Aliquam eu ipsum purus. Nunc eget lacus ac est scelerisque rhoncus sed id justo. Nam blandit placerat pharetra. Quisque consequat ligula a tincidunt lobortis. Curabitur magna risus, consectetur a massa id, tincidunt maximus urna. Curabitur dignissim convallis erat, id condimentum purus lacinia quis. Nam ut gravida eros, quis tempor turpis. Maecenas blandit eros non purus commodo pellentesque. Fusce pulvinar ipsum tellus, facilisis interdum lorem ultrices vitae. Donec in commodo libero. Nunc et arcu ipsum. In ultricies lacus eu quam ullamcorper eleifend. Proin sed purus fermentum, commodo eros at, faucibus ipsum.\n",
    "\n",
    "Suspendisse non leo id nisi luctus vehicula eu ac massa. Nunc eu tortor pretium, egestas nisi eget, volutpat eros. Fusce lectus nunc, pulvinar sed nisl vitae, laoreet laoreet nisl. Vestibulum lorem justo, semper nec ultrices sit amet, facilisis eget urna. Nunc tincidunt pellentesque metus, ut laoreet felis vehicula quis. Donec facilisis ac velit eget placerat. Nulla dictum quam ac magna auctor, eget bibendum ex cursus. Duis fringilla eu lorem eget iaculis. Curabitur porta dictum aliquam. In auctor mollis interdum. Fusce vel enim urna. Mauris metus quam, ultricies et quam in, lacinia tempor eros. Sed aliquet tincidunt purus eu pellentesque. Ut dui massa, pulvinar volutpat venenatis commodo, vulputate in diam. Nullam iaculis varius eleifend.\n",
    "\n",
    "Integer in eros mollis, hendrerit diam non, sodales risus. Donec sit amet eros tristique, pellentesque nisi sodales, gravida erat. Ut pretium, sem ac aliquet vulputate, lacus arcu blandit elit, at rutrum neque ligula a risus. Etiam sed ipsum id massa porta malesuada ut ac dolor. Nam pretium finibus mollis. Vestibulum aliquam augue mi, ut vulputate mi molestie eget. In ligula est, porttitor ac est eu, cursus fringilla metus. Duis nec velit malesuada, facilisis lectus id, posuere est. Integer rhoncus, lectus condimentum pretium gravida, nulla mi aliquet mauris, ac tempus lectus urna ut quam. In a ultrices sem. Mauris cursus justo in tortor viverra interdum. Nunc quis laoreet dui. Nunc sed sagittis quam.\n",
    "\n",
    "Class aptent taciti sociosqu ad litora torquent per conubia nostra, per inceptos himenaeos. Morbi est nibh, lobortis vel eleifend gravida, vulputate id urna. Sed in bibendum erat. Pellentesque elementum quam vitae massa ultricies rhoncus. Nullam ornare sit amet orci quis hendrerit. Duis finibus turpis vel est egestas, ut consequat eros egestas. Curabitur suscipit scelerisque lacus, vitae porttitor neque fermentum quis. Ut pulvinar id justo ut aliquet.\n",
    "\n",
    "Donec bibendum metus ac purus convallis suscipit. Integer tempus faucibus urna, ut interdum eros tincidunt ac. Sed eget nibh ligula. Quisque porttitor malesuada lectus, vel sollicitudin massa pellentesque vel. In eget scelerisque risus. Etiam ac varius nisi. Nam porta, elit ac sollicitudin condimentum, justo nibh tristique nunc, ac volutpat enim arcu elementum neque. Curabitur finibus fringilla tortor eget fringilla. "
   ]
  },
  {
   "cell_type": "markdown",
   "metadata": {
    "code_folding": []
   },
   "source": [
    "<div class=\"cite2c-biblio\"></div>"
   ]
  },
  {
   "cell_type": "code",
   "execution_count": null,
   "metadata": {
    "collapsed": true
   },
   "outputs": [],
   "source": [
    "b = 5"
   ]
  },
  {
   "cell_type": "markdown",
   "metadata": {},
   "source": [
    "{{b}}"
   ]
  },
  {
   "cell_type": "code",
   "execution_count": null,
   "metadata": {
    "collapsed": true
   },
   "outputs": [],
   "source": []
  }
 ],
 "metadata": {
  "celltoolbar": "Edit Metadata",
  "cite2c": {
   "citations": {
    "2418347/C7K6AC72": {
     "DOI": "10.1093/bioinformatics/btt055",
     "URL": "http://bioinformatics.oxfordjournals.org/content/29/7/845",
     "abstract": "Motivation: Molecular simulation has historically been a low-throughput technique, but faster computers and increasing amounts of genomic and structural data are changing this by enabling large-scale automated simulation of, for instance, many conformers or mutants of biomolecules with or without a range of ligands. At the same time, advances in performance and scaling now make it possible to model complex biomolecular interaction and function in a manner directly testable by experiment. These applications share a need for fast and efficient software that can be deployed on massive scale in clusters, web servers, distributed computing or cloud resources.\nResults: Here, we present a range of new simulation algorithms and features developed during the past 4 years, leading up to the GROMACS 4.5 software package. The software now automatically handles wide classes of biomolecules, such as proteins, nucleic acids and lipids, and comes with all commonly used force fields for these molecules built-in. GROMACS supports several implicit solvent models, as well as new free-energy algorithms, and the software now uses multithreading for efficient parallelization even on low-end systems, including windows-based workstations. Together with hand-tuned assembly kernels and state-of-the-art parallelization, this provides extremely high performance and cost efficiency for high-throughput as well as massively parallel simulations.\nAvailability: GROMACS is an open source and free software available from http://www.gromacs.org.\nContact: erik.lindahl@scilifelab.se\nSupplementary information: Supplementary data are available at Bioinformatics online.",
     "accessed": {
      "day": "21",
      "month": "9",
      "year": "2015"
     },
     "author": [
      {
       "family": "Pronk",
       "given": "Sander"
      },
      {
       "family": "Páll",
       "given": "Szilárd"
      },
      {
       "family": "Schulz",
       "given": "Roland"
      },
      {
       "family": "Larsson",
       "given": "Per"
      },
      {
       "family": "Bjelkmar",
       "given": "Pär"
      },
      {
       "family": "Apostolov",
       "given": "Rossen"
      },
      {
       "family": "Shirts",
       "given": "Michael R."
      },
      {
       "family": "Smith",
       "given": "Jeremy C."
      },
      {
       "family": "Kasson",
       "given": "Peter M."
      },
      {
       "family": "Spoel",
       "given": "David van der"
      },
      {
       "family": "Hess",
       "given": "Berk"
      },
      {
       "family": "Lindahl",
       "given": "Erik"
      }
     ],
     "container-title": "Bioinformatics",
     "container-title-short": "Bioinformatics",
     "id": "2418347/C7K6AC72",
     "issue": "7",
     "issued": {
      "day": 4,
      "day_end": 1,
      "year": "2013",
      "year_end": "2013"
     },
     "journalAbbreviation": "Bioinformatics",
     "language": "en",
     "note": "PMID: 23407358",
     "page": "845-854",
     "page-first": "845",
     "shortTitle": "GROMACS 4.5",
     "title": "GROMACS 4.5: a high-throughput and highly parallel open source molecular simulation toolkit",
     "title-short": "GROMACS 4.5",
     "type": "article-journal",
     "volume": "29"
    },
    "2418347/W23TEI2S": {
     "DOI": "10.1103/PhysRevLett.101.188101",
     "URL": "http://link.aps.org/doi/10.1103/PhysRevLett.101.188101",
     "abstract": "We study the strong-coupling (SC) interaction between two like-charged membranes of finite thickness embedded in a medium of higher dielectric constant. A generalized SC theory is applied along with extensive Monte Carlo simulations to study the image charge effects induced by multiple dielectric discontinuities in this system. These effects lead to strong counterion crowding in the central region of the intersurface space upon increasing the solvent-membrane dielectric mismatch and change the membrane interactions from attractive to repulsive at small separations. These features agree quantitatively with the SC theory at elevated couplings or dielectric mismatch where the correlation hole around counterions is larger than the thickness of the central counterion layer.",
     "accessed": {
      "day": "4",
      "month": "12",
      "year": "2015"
     },
     "author": [
      {
       "family": "Jho",
       "given": "Y. S."
      },
      {
       "family": "Kanduč",
       "given": "M."
      },
      {
       "family": "Naji",
       "given": "A."
      },
      {
       "family": "Podgornik",
       "given": "R."
      },
      {
       "family": "Kim",
       "given": "M. W."
      },
      {
       "family": "Pincus",
       "given": "P. A."
      }
     ],
     "container-title": "Physical Review Letters",
     "container-title-short": "Phys. Rev. Lett.",
     "id": "2418347/W23TEI2S",
     "issue": "18",
     "issued": {
      "day": 29,
      "year": "2008"
     },
     "journalAbbreviation": "Phys. Rev. Lett.",
     "page": "188101",
     "page-first": "188101",
     "title": "Strong-Coupling Electrostatics in the Presence of Dielectric Inhomogeneities",
     "type": "article-journal",
     "volume": "101"
    },
    "2418347/X9HUGRNC": {
     "ISBN": "978-0-08-057101-0",
     "abstract": "This book gives a comprehensive and up-to-date treatment of the theory of \"simple\" liquids. The new second edition has been rearranged and considerably expanded to give a balanced account both of basic theory and of the advances of the past decade. It presents the main ideas of modern liquid state theory in a way that is both pedagogical and self-contained. The book should be accessible to graduate students and research workers, both experimentalists and theorists, who have a good background in elementary mechanics.Key Features* Compares theoretical deductions with experimental results* Molecular dynamics* Monte Carlo computations* Covers ionic, metallic, and molecular liquids",
     "author": [
      {
       "family": "Hansen",
       "given": "Jean-Pierre"
      },
      {
       "family": "McDonald",
       "given": "Ian R."
      }
     ],
     "id": "2418347/X9HUGRNC",
     "issued": {
      "day": "24",
      "month": "9",
      "year": "1990"
     },
     "language": "en",
     "number-of-pages": "569",
     "publisher": "Elsevier",
     "title": "Theory of Simple Liquids",
     "type": "book"
    },
    "2418347/XMMRW9EX": {
     "ISBN": "978-0-12-370535-8",
     "URL": "http://www.sciencedirect.com/science/article/pii/B9780123705358500100",
     "abstract": "The chapter aims at showing how the decay of fluctuations is described within the framework of linearized hydrodynamics and, secondly, obtaining explicit expressions for the macroscopic transport coefficients in terms of microscopic quantities. The hydrodynamic approach is valid only on scales of length and time, much larger than those characteristic of the molecular level, but the gap between the microscopic and macroscopic descriptions can be bridged by an essentially phenomenological extrapolation of the hydrodynamic results to shorter wavelengths and higher frequencies. Thermal fluctuations at long wavelengths and low frequencies are first discussed. Hydrodynamic variables, hydrodynamic fields, constitutive relations, transport coefficients, Fick's law of diffusion, and Fourier's law of heat transport are some of the concepts described. Space-dependent self-motion discusses tagged particles. The Navier–Stoles equation and hydrodynamic collective modes are detailed. Transverse–current correlations including the Green–Kubo relation, longitudinal collective modes, and generalized hydrodynamics are also discussed. Long-time tails in time-correlation functions and dynamics of supercooled liquids are the other concepts that are detailed.",
     "accessed": {
      "day": "21",
      "month": "9",
      "year": "2015"
     },
     "author": [
      {
       "family": "Hansen",
       "given": "Jean-Pierre"
      },
      {
       "family": "McDonald",
       "given": "Ian R."
      }
     ],
     "container-title": "Theory of Simple Liquids (Third Edition)",
     "editor": [
      {
       "family": "Hansen",
       "given": "Jean-Pierre"
      },
      {
       "family": "McDonald",
       "given": "Ian R."
      }
     ],
     "event-place": "Burlington",
     "id": "2418347/XMMRW9EX",
     "issued": {
      "year": "2006"
     },
     "page": "219-254",
     "page-first": "219",
     "publisher": "Academic Press",
     "publisher-place": "Burlington",
     "title": "Chapter 8 - Hydrodynamics and Transport Coefficients",
     "type": "chapter"
    }
   }
  },
  "kernelspec": {
   "display_name": "Python 2",
   "language": "python",
   "name": "python2"
  },
  "language_info": {
   "codemirror_mode": {
    "name": "ipython",
    "version": 2
   },
   "file_extension": ".py",
   "mimetype": "text/x-python",
   "name": "python",
   "nbconvert_exporter": "python",
   "pygments_lexer": "ipython2",
   "version": "2.7.10"
  },
  "latex_metadata": {
   "affiliation": "Freie Universit\\\"at Berlin, Fachbereich Physik, 14195 Berlin, Germany",
   "author": "Julius C. F. Schulz, Alexander Schlaich",
   "title": "Amazing Article"
  }
 },
 "nbformat": 4,
 "nbformat_minor": 0
}
